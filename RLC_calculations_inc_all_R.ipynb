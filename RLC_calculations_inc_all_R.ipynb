{
 "cells": [
  {
   "cell_type": "code",
   "execution_count": 1,
   "metadata": {},
   "outputs": [],
   "source": [
    "%run ./py_templates/1_Boilerplate_numeric.py"
   ]
  },
  {
   "cell_type": "code",
   "execution_count": 2,
   "metadata": {},
   "outputs": [],
   "source": [
    "L1=80.0E-3\n",
    "C1=0.01E-6\n",
    "RW=121\n",
    "RINT=100\n",
    "R1=700\n",
    "E1=5.0+0j\n",
    "f=6.543E3\n",
    "#f=4.712E3\n",
    "#f=1/(2*pi*(sqrt(L1*C1))) # use for resonant case only.  NB!\n",
    "#print(f) # use for resonant case only.  NB!"
   ]
  },
  {
   "cell_type": "markdown",
   "metadata": {},
   "source": [
    "In other words, the series circuit has the following characteristics:\n",
    "\n",
    "The inductor is $80mH$<br>\n",
    "The capacitor is $10nF$<br>\n",
    "The resistor is $700\\Omega$<br>\n",
    "The signal source is $5V$<br>\n",
    "The inductor has a winding resistance of $121\\Omega$<br>\n",
    "The signal source has an internal resistance of $100\\Omega$<br>\n",
    "The frequency setting on the generator is $6543Hz$<br>"
   ]
  },
  {
   "cell_type": "code",
   "execution_count": 3,
   "metadata": {},
   "outputs": [],
   "source": [
    "XL=(2*pi*f*L1)*1j\n",
    "XC=(1/(2*pi*f*C1))*-1j\n",
    "Rtot=R1+RW+RINT"
   ]
  },
  {
   "cell_type": "markdown",
   "metadata": {},
   "source": [
    "In cell <code>In [3]:</code>, all we are doing is calculating $X_L$, $X_C$, and the total of all resistive elements.  You will also notice that I am multiplying the inductor by $j$ and the capacitor by $-j$ this is done to cast them to type complex for manipulation in the next cell."
   ]
  },
  {
   "cell_type": "code",
   "execution_count": 4,
   "metadata": {},
   "outputs": [],
   "source": [
    "ZT=XL+XC+Rtot\n",
    "XS=XL+XC\n",
    "IT=E1/ZT\n",
    "VS=IT*XS\n",
    "VL1=IT*XL\n",
    "VC1=IT*XC\n",
    "VR1=IT*R1\n",
    "VRT=IT*Rtot\n",
    "PT=VRT*IT\n",
    "PX=VS*IT\n",
    "PAPP=E1*IT\n",
    "Xt=R2P(XS)\n",
    "theta=atand(Xt[0]/Rtot)\n",
    "X_l=R2P(XL)\n",
    "Qcoil=X_l[0]/RW"
   ]
  },
  {
   "cell_type": "markdown",
   "metadata": {},
   "source": [
    "If you look at cell <code>In [4]:</code>, everything is straight addition in rectangular form, in which case I merely add like terms, or I am using Ohm's law and Joule's Law. <br><br>\n",
    "I can directly add $X_C$ and $X_L$ since they are in rectangular form still, and simply adding the total resistive elements to $Z_T$ is possible since I am still in rectangular form.<br><br>\n",
    "The term \"theta\" $(\\theta)$, is the total circuit $\\theta$ including the net effect of adding $X_C$ and $X_L$ as well as the total resistance including source resistance and inductor winding resistance.<br><br>\n",
    "Lastly, as is discussed in the textbook (Chapter 13) there is a $Q_{coil}\\thinspace$ and a $Q_{circuit}\\thinspace\\thinspace$.  The former is the ratio of resistive to reactive component in the inductor and the latter is the ratio of the aggregate resistive to aggregate reactive ratio in the circuit. "
   ]
  },
  {
   "cell_type": "code",
   "execution_count": 5,
   "metadata": {},
   "outputs": [],
   "source": [
    "XL_=R2P(XL)\n",
    "XC_=R2P(XC)\n",
    "XS_=R2P(XS)\n",
    "Rtot_=R2P(Rtot)\n",
    "ZT_=R2P(ZT)\n",
    "IT_=R2P(IT)\n",
    "VL_=R2P(VL1)\n",
    "VR_=R2P(VR1)\n",
    "VC_=R2P(VC1)\n",
    "PR_=R2P(PT)\n",
    "PX_=R2P(PX)\n",
    "PAPP_=R2P(PAPP)"
   ]
  },
  {
   "cell_type": "markdown",
   "metadata": {},
   "source": [
    "Now that I have calculated my answers, cell <code>In [5]:</code> is just converting all the numbers to polar form.  I have a function, <code>R2P</code> which does this, just like the hp Prime you are using. "
   ]
  },
  {
   "cell_type": "code",
   "execution_count": 6,
   "metadata": {},
   "outputs": [
    {
     "name": "stdout",
     "output_type": "stream",
     "text": [
      "   XL: 3288.87052. Ohms at 90.0. degrees\n",
      "   XC: 2432.44602. Ohms at -90.0. degrees\n",
      "   RT: 921.00000. Ohms at 0.0. degrees\n",
      "   XS: 856.42450. Ohms at 90.0. degrees\n",
      "   ZT: 1257.65811. Ohms at 42.9. degrees\n",
      "   IT: 0.00398. Amperes at -42.9. degrees\n",
      "   VL: 13.07538. Volts at 47.1. degrees\n",
      "   VC: 9.67054. Volts at -132.9. degrees\n",
      "   VR: 2.78295. Volts at -42.9. degrees\n",
      "   PT: 1.45571e-02. Watts at -85.8. degrees\n",
      "   PX: 1.35364e-02. VAR at 4.2. degrees\n",
      " PAPP: 1.98782e-02. VA at -42.9. degrees\n",
      "   pf: 0.7323134907336056\n",
      "Qcoil: 27.180748075951094\n"
     ]
    }
   ],
   "source": [
    "print(\"   XL:\",'{0:.5f}.'.format(XL_[0]),\"Ohms at\", '{0:.1f}.'.format(XL_[1]),\"degrees\")\n",
    "print(\"   XC:\",'{0:.5f}.'.format(XC_[0]),\"Ohms at\", '{0:.1f}.'.format(XC_[1]),\"degrees\")\n",
    "print(\"   RT:\",'{0:.5f}.'.format(Rtot_[0]),\"Ohms at\", '{0:.1f}.'.format(Rtot_[1]),\"degrees\")\n",
    "print(\"   XS:\",'{0:.5f}.'.format(XS_[0]),\"Ohms at\", '{0:.1f}.'.format(XS_[1]),\"degrees\")\n",
    "print(\"   ZT:\",'{0:.5f}.'.format(ZT_[0]),\"Ohms at\", '{0:.1f}.'.format(ZT_[1]),\"degrees\")\n",
    "print(\"   IT:\",'{0:.5f}.'.format(IT_[0]),\"Amperes at\", '{0:.1f}.'.format(IT_[1]),\"degrees\")\n",
    "print(\"   VL:\",'{0:.5f}.'.format(VL_[0]),\"Volts at\", '{0:.1f}.'.format(VL_[1]),\"degrees\")\n",
    "print(\"   VC:\",'{0:.5f}.'.format(VC_[0]),\"Volts at\", '{0:.1f}.'.format(VC_[1]),\"degrees\")\n",
    "print(\"   VR:\",'{0:.5f}.'.format(VR_[0]),\"Volts at\", '{0:.1f}.'.format(VR_[1]),\"degrees\")\n",
    "print(\"   PT:\",'{0:.5e}.'.format(PR_[0]),\"Watts at\", '{0:.1f}.'.format(PR_[1]),\"degrees\")\n",
    "print(\"   PX:\",'{0:.5e}.'.format(PX_[0]),\"VAR at\", '{0:.1f}.'.format(PX_[1]),\"degrees\")\n",
    "print(\" PAPP:\",'{0:.5e}.'.format(PAPP_[0]),\"VA at\", '{0:.1f}.'.format(PAPP_[1]),\"degrees\")\n",
    "print(\"   pf:\",cosd(theta))\n",
    "print(\"Qcoil:\",Qcoil)"
   ]
  },
  {
   "cell_type": "markdown",
   "metadata": {},
   "source": [
    "Make sure you can duplicate these data.  Ask any questions in the discussion. "
   ]
  }
 ],
 "metadata": {
  "kernelspec": {
   "display_name": "Python 3",
   "language": "python",
   "name": "python3"
  },
  "language_info": {
   "codemirror_mode": {
    "name": "ipython",
    "version": 3
   },
   "file_extension": ".py",
   "mimetype": "text/x-python",
   "name": "python",
   "nbconvert_exporter": "python",
   "pygments_lexer": "ipython3",
   "version": "3.7.4"
  }
 },
 "nbformat": 4,
 "nbformat_minor": 2
}
